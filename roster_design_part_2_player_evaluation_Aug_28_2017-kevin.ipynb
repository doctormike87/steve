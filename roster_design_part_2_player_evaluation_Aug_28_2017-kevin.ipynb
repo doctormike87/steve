{
 "cells": [
  {
   "cell_type": "code",
   "execution_count": 71,
   "metadata": {
    "ExecuteTime": {
     "end_time": "2017-09-08T00:28:56.282061Z",
     "start_time": "2017-09-08T00:28:56.278878Z"
    },
    "collapsed": true
   },
   "outputs": [],
   "source": [
    "import pandas as pd\n",
    "import numpy as np\n",
    "import matplotlib.pyplot as plt\n",
    "\n",
    "import matplotlib.pyplot as plt\n"
   ]
  },
  {
   "cell_type": "markdown",
   "metadata": {},
   "source": [
    "### Value of events"
   ]
  },
  {
   "cell_type": "code",
   "execution_count": 108,
   "metadata": {
    "ExecuteTime": {
     "end_time": "2017-09-08T00:55:02.970999Z",
     "start_time": "2017-09-08T00:55:02.959708Z"
    },
    "collapsed": true
   },
   "outputs": [],
   "source": [
    "dm = pd.read_csv('out_data/pbpmerge.csv')\n",
    "dm = dm.drop('Unnamed: 0', axis=1)"
   ]
  },
  {
   "cell_type": "code",
   "execution_count": 109,
   "metadata": {
    "ExecuteTime": {
     "end_time": "2017-09-08T00:55:03.288324Z",
     "start_time": "2017-09-08T00:55:03.285326Z"
    }
   },
   "outputs": [],
   "source": [
    "dm = dm[['Season', 'GameNumber', 'EventNumber', 'Period', 'AdvantageType','EventTimeFromZero', 'EventTimeFromTwenty', 'EventType', 'EventDetail']]"
   ]
  },
  {
   "cell_type": "code",
   "execution_count": 110,
   "metadata": {
    "ExecuteTime": {
     "end_time": "2017-09-08T00:55:03.800640Z",
     "start_time": "2017-09-08T00:55:03.797101Z"
    },
    "collapsed": true
   },
   "outputs": [],
   "source": [
    "dm = dm[dm['AdvantageType']=='EV']"
   ]
  },
  {
   "cell_type": "code",
   "execution_count": 111,
   "metadata": {
    "ExecuteTime": {
     "end_time": "2017-09-08T00:55:04.191593Z",
     "start_time": "2017-09-08T00:55:04.187243Z"
    },
    "collapsed": true
   },
   "outputs": [],
   "source": [
    "dm = dm.sort_values(by=['Season', 'GameNumber', 'EventNumber'])"
   ]
  },
  {
   "cell_type": "code",
   "execution_count": 112,
   "metadata": {
    "ExecuteTime": {
     "end_time": "2017-09-08T00:55:13.754040Z",
     "start_time": "2017-09-08T00:55:13.749735Z"
    },
    "collapsed": true
   },
   "outputs": [],
   "source": [
    "dm = dm.set_index(['Season', 'GameNumber'])"
   ]
  },
  {
   "cell_type": "code",
   "execution_count": 113,
   "metadata": {
    "ExecuteTime": {
     "end_time": "2017-09-08T00:55:14.308852Z",
     "start_time": "2017-09-08T00:55:14.305213Z"
    },
    "collapsed": true
   },
   "outputs": [],
   "source": [
    "dm['time_global'] = dm.EventTimeFromZero + (dm.Period-1)*dm.EventTimeFromZero"
   ]
  },
  {
   "cell_type": "code",
   "execution_count": 114,
   "metadata": {
    "ExecuteTime": {
     "end_time": "2017-09-08T00:55:14.689058Z",
     "start_time": "2017-09-08T00:55:14.685213Z"
    }
   },
   "outputs": [],
   "source": [
    "dm['goal_time'] = np.where(dm['EventType'] == 'GOAL', dm.time_global, np.nan)\n",
    "dm['goal_time'] = dm['goal_time'].fillna(method='backfill')"
   ]
  },
  {
   "cell_type": "code",
   "execution_count": 121,
   "metadata": {
    "ExecuteTime": {
     "end_time": "2017-09-08T00:58:16.071752Z",
     "start_time": "2017-09-08T00:58:16.067824Z"
    },
    "collapsed": true
   },
   "outputs": [],
   "source": [
    "dm['time_from_goal'] = dm['goal_time'] - dm['time_global']\n",
    "dm['time_from_goal']  = np.where(dm['time_from_goal']<0, np.nan, dm['time_from_goal'])"
   ]
  },
  {
   "cell_type": "code",
   "execution_count": 124,
   "metadata": {
    "ExecuteTime": {
     "end_time": "2017-09-08T00:58:49.035307Z",
     "start_time": "2017-09-08T00:58:49.030701Z"
    },
    "collapsed": true
   },
   "outputs": [],
   "source": [
    "dm['ishit'] = np.where(dm['EventType'] == 'HIT', 1, 0)\n",
    "dm['isfac'] = np.where(dm['EventType'] == 'FAC', 1, 0)\n"
   ]
  },
  {
   "cell_type": "code",
   "execution_count": 127,
   "metadata": {
    "ExecuteTime": {
     "end_time": "2017-09-08T00:59:37.369402Z",
     "start_time": "2017-09-08T00:59:37.364466Z"
    }
   },
   "outputs": [],
   "source": [
    "dc = dm.groupby(['time_from_goal'])['ishit', 'isfac'].sum()"
   ]
  },
  {
   "cell_type": "code",
   "execution_count": 128,
   "metadata": {
    "ExecuteTime": {
     "end_time": "2017-09-08T01:00:18.686949Z",
     "start_time": "2017-09-08T01:00:18.498412Z"
    }
   },
   "outputs": [
    {
     "data": {
      "image/png": "[encoded data removed]",
      "text/plain": [
       "<matplotlib.figure.Figure at 0x7fdeddac1978>"
      ]
     },
     "metadata": {},
     "output_type": "display_data"
    }
   ],
   "source": [
    "\n",
    "y = dm.ishit\n",
    "x = dm.time_from_goal\n",
    "plt.scatter(x, y)\n",
    "plt.show()"
   ]
  },
  {
   "cell_type": "code",
   "execution_count": 80,
   "metadata": {
    "ExecuteTime": {
     "end_time": "2017-09-08T00:41:49.375897Z",
     "start_time": "2017-09-08T00:41:49.357558Z"
    }
   },
   "outputs": [
    {
     "data": {
      "text/html": [
       "<div>\n",
       "<style>\n",
       "    .dataframe thead tr:only-child th {\n",
       "        text-align: right;\n",
       "    }\n",
       "\n",
       "    .dataframe thead th {\n",
       "        text-align: left;\n",
       "    }\n",
       "\n",
       "    .dataframe tbody tr th {\n",
       "        vertical-align: top;\n",
       "    }\n",
       "</style>\n",
       "<table border=\"1\" class=\"dataframe\">\n",
       "  <thead>\n",
       "    <tr style=\"text-align: right;\">\n",
       "      <th></th>\n",
       "      <th></th>\n",
       "      <th></th>\n",
       "      <th>Period</th>\n",
       "      <th>AdvantageType</th>\n",
       "      <th>EventTimeFromZero</th>\n",
       "      <th>EventTimeFromTwenty</th>\n",
       "      <th>EventType</th>\n",
       "      <th>EventDetail</th>\n",
       "      <th>time_global</th>\n",
       "      <th>goal</th>\n",
       "      <th>goal_time</th>\n",
       "      <th>time_from_goal</th>\n",
       "      <th>ishit</th>\n",
       "      <th>isfac</th>\n",
       "    </tr>\n",
       "    <tr>\n",
       "      <th>Season</th>\n",
       "      <th>GameNumber</th>\n",
       "      <th>EventNumber</th>\n",
       "      <th></th>\n",
       "      <th></th>\n",
       "      <th></th>\n",
       "      <th></th>\n",
       "      <th></th>\n",
       "      <th></th>\n",
       "      <th></th>\n",
       "      <th></th>\n",
       "      <th></th>\n",
       "      <th></th>\n",
       "      <th></th>\n",
       "      <th></th>\n",
       "    </tr>\n",
       "  </thead>\n",
       "  <tbody>\n",
       "    <tr>\n",
       "      <th rowspan=\"5\" valign=\"top\">2010</th>\n",
       "      <th rowspan=\"5\" valign=\"top\">20001</th>\n",
       "      <th>1.0</th>\n",
       "      <td>1</td>\n",
       "      <td>EV</td>\n",
       "      <td>0</td>\n",
       "      <td>1200.0</td>\n",
       "      <td>FAC</td>\n",
       "      <td>MTL won Neu. Zone - MTL #11 GOMEZ vs TOR #37 B...</td>\n",
       "      <td>0</td>\n",
       "      <td>0</td>\n",
       "      <td>402.0</td>\n",
       "      <td>402.0</td>\n",
       "      <td>0</td>\n",
       "      <td>1</td>\n",
       "    </tr>\n",
       "    <tr>\n",
       "      <th>3.0</th>\n",
       "      <td>1</td>\n",
       "      <td>EV</td>\n",
       "      <td>15</td>\n",
       "      <td>1185.0</td>\n",
       "      <td>HIT</td>\n",
       "      <td>TOR #37 BRENT HIT MTL #26 GORGES, Off. Zone</td>\n",
       "      <td>15</td>\n",
       "      <td>0</td>\n",
       "      <td>402.0</td>\n",
       "      <td>387.0</td>\n",
       "      <td>1</td>\n",
       "      <td>0</td>\n",
       "    </tr>\n",
       "    <tr>\n",
       "      <th>4.0</th>\n",
       "      <td>1</td>\n",
       "      <td>EV</td>\n",
       "      <td>46</td>\n",
       "      <td>1154.0</td>\n",
       "      <td>HIT</td>\n",
       "      <td>MTL #14 PLEKANEC HIT TOR #2 SCHENN, Off. Zone</td>\n",
       "      <td>46</td>\n",
       "      <td>0</td>\n",
       "      <td>402.0</td>\n",
       "      <td>356.0</td>\n",
       "      <td>1</td>\n",
       "      <td>0</td>\n",
       "    </tr>\n",
       "    <tr>\n",
       "      <th>5.0</th>\n",
       "      <td>1</td>\n",
       "      <td>EV</td>\n",
       "      <td>57</td>\n",
       "      <td>1143.0</td>\n",
       "      <td>HIT</td>\n",
       "      <td>MTL #76 SUBBAN HIT TOR #15 KABERLE, Neu. Zone</td>\n",
       "      <td>57</td>\n",
       "      <td>0</td>\n",
       "      <td>402.0</td>\n",
       "      <td>345.0</td>\n",
       "      <td>1</td>\n",
       "      <td>0</td>\n",
       "    </tr>\n",
       "    <tr>\n",
       "      <th>6.0</th>\n",
       "      <td>1</td>\n",
       "      <td>EV</td>\n",
       "      <td>69</td>\n",
       "      <td>1131.0</td>\n",
       "      <td>GIVE</td>\n",
       "      <td>TOR&amp;nbsp;GIVEAWAY - #35 GIGUERE, Def. Zone</td>\n",
       "      <td>69</td>\n",
       "      <td>0</td>\n",
       "      <td>402.0</td>\n",
       "      <td>333.0</td>\n",
       "      <td>0</td>\n",
       "      <td>0</td>\n",
       "    </tr>\n",
       "  </tbody>\n",
       "</table>\n",
       "</div>"
      ],
      "text/plain": [
       "                               Period AdvantageType  EventTimeFromZero  \\\n",
       "Season GameNumber EventNumber                                            \n",
       "2010   20001      1.0               1            EV                  0   \n",
       "                  3.0               1            EV                 15   \n",
       "                  4.0               1            EV                 46   \n",
       "                  5.0               1            EV                 57   \n",
       "                  6.0               1            EV                 69   \n",
       "\n",
       "                               EventTimeFromTwenty EventType  \\\n",
       "Season GameNumber EventNumber                                  \n",
       "2010   20001      1.0                       1200.0       FAC   \n",
       "                  3.0                       1185.0       HIT   \n",
       "                  4.0                       1154.0       HIT   \n",
       "                  5.0                       1143.0       HIT   \n",
       "                  6.0                       1131.0      GIVE   \n",
       "\n",
       "                                                                     EventDetail  \\\n",
       "Season GameNumber EventNumber                                                      \n",
       "2010   20001      1.0          MTL won Neu. Zone - MTL #11 GOMEZ vs TOR #37 B...   \n",
       "                  3.0                TOR #37 BRENT HIT MTL #26 GORGES, Off. Zone   \n",
       "                  4.0              MTL #14 PLEKANEC HIT TOR #2 SCHENN, Off. Zone   \n",
       "                  5.0              MTL #76 SUBBAN HIT TOR #15 KABERLE, Neu. Zone   \n",
       "                  6.0                 TOR&nbsp;GIVEAWAY - #35 GIGUERE, Def. Zone   \n",
       "\n",
       "                               time_global  goal  goal_time  time_from_goal  \\\n",
       "Season GameNumber EventNumber                                                 \n",
       "2010   20001      1.0                    0     0      402.0           402.0   \n",
       "                  3.0                   15     0      402.0           387.0   \n",
       "                  4.0                   46     0      402.0           356.0   \n",
       "                  5.0                   57     0      402.0           345.0   \n",
       "                  6.0                   69     0      402.0           333.0   \n",
       "\n",
       "                               ishit  isfac  \n",
       "Season GameNumber EventNumber                \n",
       "2010   20001      1.0              0      1  \n",
       "                  3.0              1      0  \n",
       "                  4.0              1      0  \n",
       "                  5.0              1      0  \n",
       "                  6.0              0      0  "
      ]
     },
     "execution_count": 80,
     "metadata": {},
     "output_type": "execute_result"
    }
   ],
   "source": [
    "dm.head()"
   ]
  },
  {
   "cell_type": "code",
   "execution_count": null,
   "metadata": {
    "collapsed": true
   },
   "outputs": [],
   "source": []
  }
 ],
 "metadata": {
  "kernelspec": {
   "display_name": "Python 3",
   "language": "python",
   "name": "python3"
  },
  "language_info": {
   "codemirror_mode": {
    "name": "ipython",
    "version": 3
   },
   "file_extension": ".py",
   "mimetype": "text/x-python",
   "name": "python",
   "nbconvert_exporter": "python",
   "pygments_lexer": "ipython3",
   "version": "3.5.3"
  }
 },
 "nbformat": 4,
 "nbformat_minor": 2
}
